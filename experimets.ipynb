{
 "cells": [
  {
   "cell_type": "markdown",
   "id": "0378c989",
   "metadata": {},
   "source": [
    "### dScaper"
   ]
  },
  {
   "cell_type": "code",
   "execution_count": null,
   "id": "5484ad6c",
   "metadata": {},
   "outputs": [
    {
     "name": "stdout",
     "output_type": "stream",
     "text": [
      "/home/grud/jsalt25/dscaper-1/data\n"
     ]
    }
   ],
   "source": [
    "import scaper\n",
    "\n",
    "dsc = scaper.Dscaper()\n",
    "# dsc2 = scaper.Dscaper(dscaper_base_path=\"/path/to/dscaper/data\")\n",
    "\n",
    "print(dsc.get_dscaper_base_path())"
   ]
  },
  {
   "cell_type": "code",
   "execution_count": null,
   "id": "123db078",
   "metadata": {},
   "outputs": [
    {
     "data": {
      "text/plain": [
       "DscaperApiResponse(status='success', status_code=200, content='{\"id\":\"d10a8e02-e3a3-46c4-b327-93b6e8372399\",\"library\":\"test_library\",\"label\":\"restaurant\",\"filename\":\"restaurant.wav\",\"sandbox\":\"{}\",\"timestamp\":1752242554,\"duration\":60.18517006802721}', media_type='application/json')"
      ]
     },
     "execution_count": 2,
     "metadata": {},
     "output_type": "execute_result"
    }
   ],
   "source": [
    "# add audio files to the library\n",
    "file_path = \"/home/grud/jsalt25/dscaper-1/tests/data/audio/background/restaurant/207208__jormarp__high-street-of-gandia-valencia-spain_trimmed.wav\"\n",
    "\n",
    "\n",
    "metadata = scaper.dscaper.DscaperAudio(library=\"test_library\", label=\"restaurant\", filename=\"restaurant.wav\")\n",
    "dsc.store_audio(file_path, metadata)"
   ]
  },
  {
   "cell_type": "code",
   "execution_count": null,
   "id": "233bda68",
   "metadata": {},
   "outputs": [
    {
     "data": {
      "text/plain": [
       "DscaperApiResponse(status='success', status_code=200, content='{\"id\":\"c8ad333b-1cf5-4c16-86cb-cdc77c09fc3d\",\"library\":\"test_library\",\"label\":\"car\",\"filename\":\"horn.wav\",\"sandbox\":\"{}\",\"timestamp\":1752242675,\"duration\":0.6875056689342404}', media_type='application/json')"
      ]
     },
     "execution_count": 3,
     "metadata": {},
     "output_type": "execute_result"
    }
   ],
   "source": [
    "file_path = \"/home/grud/jsalt25/dscaper-1/tests/data/audio/foreground/car_horn/17-CAR-Rolls-Royce-Horn.wav\"\n",
    "\n",
    "metadata = scaper.dscaper.DscaperAudio(library=\"test_library\", label=\"car\", filename=\"horn.wav\")\n",
    "dsc.store_audio(file_path, metadata)"
   ]
  },
  {
   "cell_type": "code",
   "execution_count": null,
   "id": "4502d1d2",
   "metadata": {},
   "outputs": [
    {
     "data": {
      "text/plain": [
       "DscaperApiResponse(status='success', status_code=201, content='{\"id\":\"a5bbf7f3-e062-498c-933a-ed410c1e7116\",\"name\":\"restaurant_timeline\",\"duration\":10.0,\"description\":\"Test timeline\",\"sandbox\":\"{}\",\"timestamp\":1752242851}', media_type='application/json')"
      ]
     },
     "execution_count": 4,
     "metadata": {},
     "output_type": "execute_result"
    }
   ],
   "source": [
    "# create a timeline TimelineCreateDTO\n",
    "timeline_metadata = scaper.dscaper.DscaperTimeline(name=\"restaurant_timeline\", duration=10.0, description=\"Test timeline\")\n",
    "\n",
    "dsc.create_timeline(timeline_metadata)\n"
   ]
  },
  {
   "cell_type": "code",
   "execution_count": 2,
   "id": "dbc59c43",
   "metadata": {},
   "outputs": [
    {
     "data": {
      "text/plain": [
       "DscaperApiResponse(status='success', status_code=201, content='{\"library\":\"test_library\",\"label\":[\"choose\",\"[]\"],\"source_file\":[\"choose\",\"[]\"],\"source_time\":[\"const\",\"0\"],\"id\":\"41d8af58-8dec-4c49-99f8-759c94ac9ff2\"}', media_type='application/json')"
      ]
     },
     "execution_count": 2,
     "metadata": {},
     "output_type": "execute_result"
    }
   ],
   "source": [
    "background_metadata = scaper.dscaper.DscaperBackground(library=\"test_library\")\n",
    "dsc.add_background(\"restaurant_timeline\", background_metadata)"
   ]
  },
  {
   "cell_type": "code",
   "execution_count": 8,
   "id": "a3453e7a",
   "metadata": {},
   "outputs": [
    {
     "data": {
      "text/plain": [
       "DscaperApiResponse(status='success', status_code=201, content='{\"library\":\"test_library\",\"label\":[\"choose\",\"[]\"],\"source_file\":[\"choose\",\"[]\"],\"source_time\":[\"const\",\"0\"],\"event_time\":[\"const\",\"0\"],\"event_duration\":[\"const\",\"5\"],\"snr\":[\"const\",\"0\"],\"pitch_shift\":null,\"time_stretch\":null,\"event_type\":null,\"id\":\"6590b180-1fdb-4af3-8a32-3f0fecf3d0a1\"}', media_type='application/json')"
      ]
     },
     "execution_count": 8,
     "metadata": {},
     "output_type": "execute_result"
    }
   ],
   "source": [
    "event_metadata = scaper.dscaper.DscaperEvent(library=\"test_library\")\n",
    "dsc.add_event(\"restaurant_timeline\", event_metadata)"
   ]
  },
  {
   "cell_type": "code",
   "execution_count": 3,
   "id": "15ed9214",
   "metadata": {},
   "outputs": [
    {
     "name": "stdout",
     "output_type": "stream",
     "text": [
      "*** Processing background: 41d8af58-8dec-4c49-99f8-759c94ac9ff2.json\n",
      "*** Processing distribution: ['choose', '[]']\n",
      "*** Converting string to list:  to []\n",
      "*** Processing distribution: ['choose', '[]']\n",
      "*** Converting string to list:  to []\n",
      "*** Processing distribution: ['const', '0']\n",
      "*** Returning constant distribution tuple: ('const', 0.0)\n",
      "*** Processing event: 6590b180-1fdb-4af3-8a32-3f0fecf3d0a1.json\n",
      "*** Processing distribution: ['choose', '[]']\n",
      "*** Converting string to list:  to []\n",
      "*** Processing distribution: ['choose', '[]']\n",
      "*** Converting string to list:  to []\n",
      "*** Processing distribution: ['const', '0']\n",
      "*** Returning constant distribution tuple: ('const', 0.0)\n",
      "*** Processing distribution: ['const', '0']\n",
      "*** Returning constant distribution tuple: ('const', 0.0)\n",
      "*** Processing distribution: ['const', '5']\n",
      "*** Returning constant distribution tuple: ('const', 5.0)\n",
      "*** Processing distribution: ['const', '0']\n",
      "*** Returning constant distribution tuple: ('const', 0.0)\n"
     ]
    },
    {
     "name": "stderr",
     "output_type": "stream",
     "text": [
      "/home/grud/jsalt25/dscaper-1/scaper/core.py:1698: ScaperWarning: car source time tuple (const, 0.0) could not be satisfied given source duration (0.69) and event duration (10.00), source time tuple changed to (const, 0) but was still not satisfiable, likely due to using 'normal' distribution with bounds too close to the start or end of the audio file\n",
      "  warnings.warn(\n",
      "/home/grud/jsalt25/dscaper-1/scaper/core.py:2241: ScaperWarning: Soundscape audio is clipping!\n",
      "  warnings.warn('Soundscape audio is clipping!',\n"
     ]
    },
    {
     "data": {
      "text/plain": [
       "DscaperApiResponse(status='success', status_code=201, content='{\"seed\":0,\"ref_db\":-20,\"reverb\":0.0,\"save_isolated_events\":false,\"save_isolated_eventtypes\":false,\"id\":\"8831e720-2d49-4fcf-a04e-3b04e54eb87d\",\"timestamp\":1752245212,\"generated_files\":[\"soundscape.wav\",\"soundscape.txt\",\"soundscape.jams\"]}', media_type='application/json')"
      ]
     },
     "execution_count": 3,
     "metadata": {},
     "output_type": "execute_result"
    }
   ],
   "source": [
    "generate_metadata = scaper.dscaper.DscaperGenerate()\n",
    "dsc.generate_timeline(\"restaurant_timeline\", generate_metadata)"
   ]
  },
  {
   "cell_type": "markdown",
   "id": "1d29b400",
   "metadata": {},
   "source": [
    "### Scaper"
   ]
  },
  {
   "cell_type": "code",
   "execution_count": 6,
   "id": "38a87856",
   "metadata": {},
   "outputs": [],
   "source": [
    "import scaper\n",
    "import os\n",
    "\n",
    "path_to_audio = os.path.join('tests','data','audio')\n",
    "\n",
    "soundscape_duration = 10.0\n",
    "seed = 123\n",
    "foreground_folder = os.path.join(path_to_audio, 'foreground')\n",
    "background_folder = os.path.join(path_to_audio, 'background')\n",
    "sc = scaper.Scaper(soundscape_duration, foreground_folder, background_folder)\n",
    "sc.ref_db = -20"
   ]
  },
  {
   "cell_type": "code",
   "execution_count": 1,
   "id": "2d0bf088",
   "metadata": {},
   "outputs": [],
   "source": [
    "import scaper\n",
    "import os\n",
    "\n",
    "path_to_audio = os.path.join('tests','data','audio')\n",
    "\n",
    "soundscape_duration = 10.0\n",
    "seed = 123\n",
    "sc = scaper.Scaper(soundscape_duration, None, None)\n",
    "sc.ref_db = -20"
   ]
  },
  {
   "cell_type": "code",
   "execution_count": 7,
   "id": "e267b000",
   "metadata": {},
   "outputs": [],
   "source": [
    "sc.add_background(label=('const', 'park'),\n",
    "                  source_file=('choose', []),\n",
    "                  source_time=('const', 0))\n",
    "sc.add_event(label=('const', 'siren'),\n",
    "             source_file=('choose', []),\n",
    "             source_time=('const', 0),\n",
    "             event_time=('uniform', 0, 9),\n",
    "             event_duration=('truncnorm', 3, 1, 0.5, 5),\n",
    "             snr=('normal', 10, 3),\n",
    "             pitch_shift=('uniform', -2, 2),\n",
    "             time_stretch=('uniform', 0.8, 1.2))\n",
    "for _ in range(2):\n",
    "    sc.add_event(label=('choose', ['car_horn', 'siren']),\n",
    "                 source_file=('choose', []),\n",
    "                 source_time=('const', 0),\n",
    "                 event_time=('uniform', 0, 9),\n",
    "                 event_duration=('truncnorm', 3, 1, 0.5, 5),\n",
    "                 snr=('normal', 10, 3),\n",
    "                 pitch_shift=None,\n",
    "                 time_stretch=None)\n",
    "for _ in range(2):\n",
    "    sc.add_event(label=('const', 'human_voice'),\n",
    "                 source_file=('choose', []),\n",
    "                 source_time=('const', 0),\n",
    "                 event_time=('uniform', 0, 9),\n",
    "                 event_duration=('truncnorm', 3, 1, 0.5, 5),\n",
    "                 snr=('normal', 10, 3),\n",
    "                 pitch_shift=None,\n",
    "                 time_stretch=None,\n",
    "                 event_type='human')"
   ]
  },
  {
   "cell_type": "code",
   "execution_count": 8,
   "id": "74fce271",
   "metadata": {},
   "outputs": [
    {
     "name": "stderr",
     "output_type": "stream",
     "text": [
      "/home/grud/jsalt25/dscaper-1/scaper/core.py:1546: ScaperWarning: car_horn event duration (2.68) is greater that source duration (0.69), changing to 0.69\n",
      "  warnings.warn(\n",
      "/home/grud/jsalt25/dscaper-1/scaper/core.py:1546: ScaperWarning: human_voice event duration (2.91) is greater that source duration (1.54), changing to 1.54\n",
      "  warnings.warn(\n",
      "/home/grud/jsalt25/dscaper-1/scaper/core.py:1546: ScaperWarning: human_voice event duration (1.08) is greater that source duration (0.81), changing to 0.81\n",
      "  warnings.warn(\n",
      "/home/grud/jsalt25/dscaper-1/scaper/core.py:2133: ScaperWarning: Soundscape audio is clipping!\n",
      "  warnings.warn('Soundscape audio is clipping!',\n"
     ]
    },
    {
     "data": {
      "text/plain": [
       "(array([[0.32145703],\n",
       "        [0.36101639],\n",
       "        [0.2601946 ],\n",
       "        ...,\n",
       "        [0.07441254],\n",
       "        [0.07051773],\n",
       "        [0.07860102]], shape=(441000, 1)),\n",
       " <JAMS(file_metadata=<FileMetadata(...)>,\n",
       "       annotations=[1 annotation],\n",
       "       sandbox=<Sandbox(...)>)>,\n",
       " [[0.3707737994741772, 3.0398810200834436, 'siren'],\n",
       "  [2.0956026728044286, 2.783108341738669, 'car_horn'],\n",
       "  [5.02878724343104, 9.530514860094566, 'siren'],\n",
       "  [5.247120556345852, 6.7866897173435845, 'human_voice'],\n",
       "  [7.527269572493118, 8.333505400157517, 'human_voice']],\n",
       " [array([[0.32145701],\n",
       "         [0.3610164 ],\n",
       "         [0.26019458],\n",
       "         ...,\n",
       "         [0.08916861],\n",
       "         [0.08509123],\n",
       "         [0.0915793 ]], shape=(441000, 1)),\n",
       "  array([[0.],\n",
       "         [0.],\n",
       "         [0.],\n",
       "         ...,\n",
       "         [0.],\n",
       "         [0.],\n",
       "         [0.]], shape=(441000, 1)),\n",
       "  array([[0.],\n",
       "         [0.],\n",
       "         [0.],\n",
       "         ...,\n",
       "         [0.],\n",
       "         [0.],\n",
       "         [0.]], shape=(441000, 1)),\n",
       "  array([[0.],\n",
       "         [0.],\n",
       "         [0.],\n",
       "         ...,\n",
       "         [0.],\n",
       "         [0.],\n",
       "         [0.]], shape=(441000, 1)),\n",
       "  array([[0.],\n",
       "         [0.],\n",
       "         [0.],\n",
       "         ...,\n",
       "         [0.],\n",
       "         [0.],\n",
       "         [0.]], shape=(441000, 1)),\n",
       "  array([[0.],\n",
       "         [0.],\n",
       "         [0.],\n",
       "         ...,\n",
       "         [0.],\n",
       "         [0.],\n",
       "         [0.]], shape=(441000, 1))])"
      ]
     },
     "execution_count": 8,
     "metadata": {},
     "output_type": "execute_result"
    }
   ],
   "source": [
    "audiofile = 'soundscape.wav'\n",
    "jamsfile = 'soundscape.jams'\n",
    "txtfile = 'soundscape.txt'\n",
    "sc.generate(audiofile, jamsfile,\n",
    "            allow_repeated_label=True,\n",
    "            allow_repeated_source=True,\n",
    "            reverb=0.1,\n",
    "            disable_sox_warnings=True,\n",
    "            no_audio=False,\n",
    "            txt_path=txtfile)\n",
    "\n"
   ]
  },
  {
   "cell_type": "code",
   "execution_count": 4,
   "id": "46684d93",
   "metadata": {},
   "outputs": [],
   "source": [
    "# audiofile = 'soundscape.wav'\n",
    "# jamsfile = 'soundscape.jams'\n",
    "# txtfile = 'soundscape.txt'\n",
    "# sc.generate(audiofile, jamsfile,\n",
    "#             allow_repeated_label=True,\n",
    "#             allow_repeated_source=True,\n",
    "#             reverb=0.1,\n",
    "#             disable_sox_warnings=True,\n",
    "#             no_audio=False,\n",
    "#             txt_path=txtfile,\n",
    "#             save_isolated_events=True,\n",
    "#             )"
   ]
  },
  {
   "cell_type": "code",
   "execution_count": null,
   "id": "f4cf1ebd",
   "metadata": {},
   "outputs": [
    {
     "name": "stderr",
     "output_type": "stream",
     "text": [
      "/home/grud/jsalt25/dscaper-1/scaper/core.py:1546: ScaperWarning: car_horn event duration (2.17) is greater that source duration (1.29), changing to 1.29\n",
      "  warnings.warn(\n",
      "/home/grud/jsalt25/dscaper-1/scaper/core.py:1658: ScaperWarning: car_horn event time (8.81) is too great given event duration (1.29) and soundscape duration (10.00), changed to 8.71.\n",
      "  warnings.warn(\n",
      "/home/grud/jsalt25/dscaper-1/scaper/core.py:1546: ScaperWarning: car_horn event duration (1.48) is greater that source duration (0.69), changing to 0.69\n",
      "  warnings.warn(\n",
      "/home/grud/jsalt25/dscaper-1/scaper/core.py:1546: ScaperWarning: human_voice event duration (1.71) is greater that source duration (0.81), changing to 0.81\n",
      "  warnings.warn(\n",
      "/home/grud/jsalt25/dscaper-1/scaper/core.py:1546: ScaperWarning: human_voice event duration (3.25) is greater that source duration (1.54), changing to 1.54\n",
      "  warnings.warn(\n",
      "/home/grud/jsalt25/dscaper-1/scaper/core.py:1658: ScaperWarning: human_voice event time (8.48) is too great given event duration (1.54) and soundscape duration (10.00), changed to 8.46.\n",
      "  warnings.warn(\n",
      "/home/grud/jsalt25/dscaper-1/scaper/core.py:2133: ScaperWarning: Soundscape audio is clipping!\n",
      "  warnings.warn('Soundscape audio is clipping!',\n",
      "/home/grud/jsalt25/dscaper-1/scaper/core.py:2133: ScaperWarning: Soundscape audio is clipping!\n",
      "  warnings.warn('Soundscape audio is clipping!',\n",
      "/home/grud/jsalt25/dscaper-1/scaper/core.py:2133: ScaperWarning: Soundscape audio is clipping!\n",
      "  warnings.warn('Soundscape audio is clipping!',\n"
     ]
    },
    {
     "data": {
      "text/plain": [
       "(array([[0.32145703],\n",
       "        [0.36101639],\n",
       "        [0.2601946 ],\n",
       "        ...,\n",
       "        [0.09235136],\n",
       "        [0.09291973],\n",
       "        [0.10472851]], shape=(441000, 1)),\n",
       " <JAMS(file_metadata=<FileMetadata(...)>,\n",
       "       annotations=[1 annotation],\n",
       "       sandbox=<Sandbox(...)>)>,\n",
       " [[5.354360033494498, 6.160595861158897, 'human_voice'],\n",
       "  [8.460430839002267, 10.0, 'human_voice']],\n",
       " [array([[0.32145701],\n",
       "         [0.3610164 ],\n",
       "         [0.26019458],\n",
       "         ...,\n",
       "         [0.08916861],\n",
       "         [0.08509123],\n",
       "         [0.0915793 ]], shape=(441000, 1)),\n",
       "  array([[0.],\n",
       "         [0.],\n",
       "         [0.],\n",
       "         ...,\n",
       "         [0.],\n",
       "         [0.],\n",
       "         [0.]], shape=(441000, 1)),\n",
       "  array([[0.],\n",
       "         [0.],\n",
       "         [0.],\n",
       "         ...,\n",
       "         [0.],\n",
       "         [0.],\n",
       "         [0.]], shape=(441000, 1)),\n",
       "  array([[0.],\n",
       "         [0.],\n",
       "         [0.],\n",
       "         ...,\n",
       "         [0.],\n",
       "         [0.],\n",
       "         [0.]], shape=(441000, 1)),\n",
       "  array([[0.],\n",
       "         [0.],\n",
       "         [0.],\n",
       "         ...,\n",
       "         [0.],\n",
       "         [0.],\n",
       "         [0.]], shape=(441000, 1)),\n",
       "  array([[0.],\n",
       "         [0.],\n",
       "         [0.],\n",
       "         ...,\n",
       "         [0.],\n",
       "         [0.],\n",
       "         [0.]], shape=(441000, 1))])"
      ]
     },
     "execution_count": 5,
     "metadata": {},
     "output_type": "execute_result"
    }
   ],
   "source": [
    "# audiofile = 'soundscape.wav'\n",
    "# jamsfile = 'soundscape.jams'\n",
    "# txtfile = 'soundscape.txt'\n",
    "# sc.generate(audiofile, jamsfile,\n",
    "#             allow_repeated_label=True,\n",
    "#             allow_repeated_source=True,\n",
    "#             reverb=0.1,\n",
    "#             disable_sox_warnings=True,\n",
    "#             no_audio=False,\n",
    "#             txt_path=txtfile,\n",
    "#             save_isolated_eventtypes=True,\n",
    "#             isolated_eventtypes_path='isolated_eventtypes')"
   ]
  }
 ],
 "metadata": {
  "kernelspec": {
   "display_name": ".venv",
   "language": "python",
   "name": "python3"
  },
  "language_info": {
   "codemirror_mode": {
    "name": "ipython",
    "version": 3
   },
   "file_extension": ".py",
   "mimetype": "text/x-python",
   "name": "python",
   "nbconvert_exporter": "python",
   "pygments_lexer": "ipython3",
   "version": "3.12.3"
  }
 },
 "nbformat": 4,
 "nbformat_minor": 5
}
