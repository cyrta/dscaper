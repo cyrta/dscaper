{
 "cells": [
  {
   "cell_type": "code",
   "execution_count": 1,
   "id": "38a87856",
   "metadata": {},
   "outputs": [],
   "source": [
    "import scaper\n",
    "import os\n",
    "\n",
    "path_to_audio = os.path.join('tests','data','audio')\n",
    "\n",
    "soundscape_duration = 10.0\n",
    "seed = 123\n",
    "foreground_folder = os.path.join(path_to_audio, 'foreground')\n",
    "background_folder = os.path.join(path_to_audio, 'background')\n",
    "sc = scaper.Scaper(soundscape_duration, foreground_folder, background_folder)\n",
    "sc.ref_db = -20"
   ]
  },
  {
   "cell_type": "code",
   "execution_count": 2,
   "id": "e267b000",
   "metadata": {},
   "outputs": [],
   "source": [
    "sc.add_background(label=('const', 'park'),\n",
    "                  source_file=('choose', []),\n",
    "                  source_time=('const', 0))\n",
    "sc.add_event(label=('const', 'siren'),\n",
    "             source_file=('choose', []),\n",
    "             source_time=('const', 0),\n",
    "             event_time=('uniform', 0, 9),\n",
    "             event_duration=('truncnorm', 3, 1, 0.5, 5),\n",
    "             snr=('normal', 10, 3),\n",
    "             pitch_shift=('uniform', -2, 2),\n",
    "             time_stretch=('uniform', 0.8, 1.2))\n",
    "for _ in range(2):\n",
    "    sc.add_event(label=('choose', []),\n",
    "                 source_file=('choose', []),\n",
    "                 source_time=('const', 0),\n",
    "                 event_time=('uniform', 0, 9),\n",
    "                 event_duration=('truncnorm', 3, 1, 0.5, 5),\n",
    "                 snr=('normal', 10, 3),\n",
    "                 pitch_shift=None,\n",
    "                 time_stretch=None)"
   ]
  },
  {
   "cell_type": "code",
   "execution_count": 3,
   "id": "74fce271",
   "metadata": {},
   "outputs": [
    {
     "name": "stderr",
     "output_type": "stream",
     "text": [
      "/home/grud/jsalt25/dscaper-1/scaper/core.py:1501: ScaperWarning: human_voice event duration (2.54) is greater that source duration (1.00), changing to 1.00\n",
      "  warnings.warn(\n",
      "/home/grud/jsalt25/dscaper-1/scaper/core.py:1501: ScaperWarning: human_voice event duration (3.09) is greater that source duration (1.00), changing to 1.00\n",
      "  warnings.warn(\n",
      "/home/grud/jsalt25/dscaper-1/scaper/core.py:2077: ScaperWarning: Soundscape audio is clipping!\n",
      "  warnings.warn('Soundscape audio is clipping!',\n"
     ]
    },
    {
     "data": {
      "text/plain": [
       "(array([[0.32145703],\n",
       "        [0.36101639],\n",
       "        [0.2601946 ],\n",
       "        ...,\n",
       "        [0.07440598],\n",
       "        [0.07051114],\n",
       "        [0.07859441]], shape=(441000, 1)),\n",
       " <JAMS(file_metadata=<FileMetadata(...)>,\n",
       "       annotations=[1 annotation],\n",
       "       sandbox=<Sandbox(...)>)>,\n",
       " [[3.2351850790129424, 6.593480997755584, 'siren'],\n",
       "  [3.9501742533171815, 4.950174253317181, 'human_voice'],\n",
       "  [8.086300319846288, 9.086300319846288, 'human_voice']],\n",
       " [array([[0.32145701],\n",
       "         [0.3610164 ],\n",
       "         [0.26019458],\n",
       "         ...,\n",
       "         [0.08916861],\n",
       "         [0.08509123],\n",
       "         [0.0915793 ]], shape=(441000, 1)),\n",
       "  array([[0.],\n",
       "         [0.],\n",
       "         [0.],\n",
       "         ...,\n",
       "         [0.],\n",
       "         [0.],\n",
       "         [0.]], shape=(441000, 1)),\n",
       "  array([[0.],\n",
       "         [0.],\n",
       "         [0.],\n",
       "         ...,\n",
       "         [0.],\n",
       "         [0.],\n",
       "         [0.]], shape=(441000, 1)),\n",
       "  array([[0.],\n",
       "         [0.],\n",
       "         [0.],\n",
       "         ...,\n",
       "         [0.],\n",
       "         [0.],\n",
       "         [0.]], shape=(441000, 1))])"
      ]
     },
     "execution_count": 3,
     "metadata": {},
     "output_type": "execute_result"
    }
   ],
   "source": [
    "audiofile = 'soundscape.wav'\n",
    "jamsfile = 'soundscape.jams'\n",
    "txtfile = 'soundscape.txt'\n",
    "sc.generate(audiofile, jamsfile,\n",
    "            allow_repeated_label=True,\n",
    "            allow_repeated_source=True,\n",
    "            reverb=0.1,\n",
    "            disable_sox_warnings=True,\n",
    "            no_audio=False,\n",
    "            txt_path=txtfile)\n",
    "\n"
   ]
  }
 ],
 "metadata": {
  "kernelspec": {
   "display_name": ".venv",
   "language": "python",
   "name": "python3"
  },
  "language_info": {
   "codemirror_mode": {
    "name": "ipython",
    "version": 3
   },
   "file_extension": ".py",
   "mimetype": "text/x-python",
   "name": "python",
   "nbconvert_exporter": "python",
   "pygments_lexer": "ipython3",
   "version": "3.12.3"
  }
 },
 "nbformat": 4,
 "nbformat_minor": 5
}
