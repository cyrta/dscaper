{
 "cells": [
  {
   "cell_type": "code",
   "execution_count": 1,
   "id": "7677eec7",
   "metadata": {},
   "outputs": [
    {
     "name": "stdout",
     "output_type": "stream",
     "text": [
      "/home/grud/jsalt25/dscaper-1/data\n"
     ]
    }
   ],
   "source": [
    "import scaper\n",
    "\n",
    "dsc = scaper.Dscaper()\n",
    "\n",
    "print(dsc.get_dscaper_base_path())\n",
    "\n",
    "library = \"nosox_lib_3\"\n",
    "timeline = \"nosox_timeline_2\""
   ]
  },
  {
   "cell_type": "markdown",
   "id": "73d7fe2c",
   "metadata": {},
   "source": [
    "## Test background looping"
   ]
  },
  {
   "cell_type": "code",
   "execution_count": 8,
   "id": "a2c1cbaf",
   "metadata": {},
   "outputs": [
    {
     "name": "stdout",
     "output_type": "stream",
     "text": [
      "status='success' status_code=200 content={'id': '995f7a0f-5d65-4752-9cc7-43d26e964999', 'library': 'nosox_lib_3', 'label': 'test', 'filename': 'test1.wav', 'sandbox': '{}', 'timestamp': 1753789971, 'duration': 5.328979591836735} media_type='application/json'\n"
     ]
    }
   ],
   "source": [
    "in_file = \"turn_1.wav\"\n",
    "out_file = \"test1.wav\"\n",
    "file_path = \"/home/grud/jsalt25/audio/\"+in_file \n",
    "metadata = scaper.dscaper.DscaperAudio(library=library, label=\"test\", filename=out_file)\n",
    "resp = dsc.store_audio(file_path, metadata)\n",
    "print(resp)"
   ]
  },
  {
   "cell_type": "code",
   "execution_count": 9,
   "id": "e7ebefdf",
   "metadata": {},
   "outputs": [
    {
     "data": {
      "text/plain": [
       "DscaperJsonResponse(status='success', status_code=201, content={'id': '76eabe7d-9035-40a1-8214-b1391c37684a', 'name': 'nosox_timeline_2', 'duration': 35.0, 'description': 'Test timeline', 'sandbox': '{}', 'timestamp': 1753789974}, media_type='application/json')"
      ]
     },
     "execution_count": 9,
     "metadata": {},
     "output_type": "execute_result"
    }
   ],
   "source": [
    "timeline_metadata = scaper.dscaper.DscaperTimeline(name=timeline, duration=35.0, description=\"Test timeline\")\n",
    "\n",
    "dsc.create_timeline(timeline_metadata)"
   ]
  },
  {
   "cell_type": "code",
   "execution_count": 10,
   "id": "cb7a5648",
   "metadata": {},
   "outputs": [
    {
     "data": {
      "text/plain": [
       "DscaperJsonResponse(status='success', status_code=201, content={'library': 'nosox_lib_3', 'label': ['const', 'test'], 'source_file': ['const', 'test1.wav'], 'source_time': ['const', '0'], 'id': 'f4b00dc8-b55d-41cc-a7c7-caf5f1d45596'}, media_type='application/json')"
      ]
     },
     "execution_count": 10,
     "metadata": {},
     "output_type": "execute_result"
    }
   ],
   "source": [
    "background_metadata = scaper.dscaper.DscaperBackground(library=library, label=['const', 'test'], source_file=['const', out_file])\n",
    "dsc.add_background(timeline, background_metadata)"
   ]
  },
  {
   "cell_type": "code",
   "execution_count": 2,
   "id": "c2070649",
   "metadata": {},
   "outputs": [
    {
     "name": "stdout",
     "output_type": "stream",
     "text": [
      "Reading background audio from:  /home/grud/jsalt25/dscaper-1/data/libraries/nosox_lib_3/test/test1.wav\n",
      "shape of audio_in before reshaping:  (7, 235008)\n",
      "shape of audio_in after reshaping:  (1645056, 1)\n",
      "Reading background audio from:  /home/grud/jsalt25/dscaper-1/data/libraries/nosox_lib_3/test/test1.wav\n",
      "shape of audio_in before reshaping:  (7, 235008)\n",
      "shape of audio_in after reshaping:  (1645056, 1)\n",
      "Resp: status='success' status_code=201 content={'seed': 0, 'ref_db': -20, 'reverb': 0.0, 'save_isolated_events': False, 'save_isolated_positions': True, 'id': 'd5693050-2d1e-41b1-afef-deb2194cf62a', 'timestamp': 1753792073, 'generated_files': ['soundscape.wav', 'soundscape.txt', 'soundscape.jams', 'soundscape_positions/no_type.jams', 'soundscape_positions/no_type.wav']} media_type='application/json'\n",
      "ID: d5693050-2d1e-41b1-afef-deb2194cf62a\n"
     ]
    },
    {
     "name": "stderr",
     "output_type": "stream",
     "text": [
      "/home/grud/jsalt25/dscaper-1/scaper/core.py:1762: ScaperWarning: test source time tuple (const, 0.0) could not be satisfied given source duration (5.33) and event duration (35.00), source time tuple changed to (const, 0) but was still not satisfiable, likely due to using 'normal' distribution with bounds too close to the start or end of the audio file\n",
      "  warnings.warn(\n"
     ]
    }
   ],
   "source": [
    "generate_metadata = scaper.dscaper.DscaperGenerate(save_isolated_positions=True)\n",
    "resp = dsc.generate_timeline(timeline, generate_metadata)\n",
    "print(\"Resp:\", resp)  # Get the ID of the generated timeline\n",
    "\n",
    "content = scaper.dscaper.DscaperGenerate(**resp.content)\n",
    "print(\"ID:\",content.id)  # Get the ID of the generated timeline"
   ]
  },
  {
   "cell_type": "markdown",
   "id": "be5739ac",
   "metadata": {},
   "source": [
    "## Other tests"
   ]
  },
  {
   "cell_type": "code",
   "execution_count": 2,
   "id": "9fb958d9",
   "metadata": {},
   "outputs": [
    {
     "name": "stdout",
     "output_type": "stream",
     "text": [
      "status='success' status_code=200 content={'id': '393b8ea8-4e9e-4240-9b37-18f442b796e9', 'library': 'nosox_lib_1', 'label': 'speakerA', 'filename': 'turn_1.wav', 'sandbox': '{}', 'timestamp': 1753706593, 'duration': 5.328979591836735} media_type='application/json'\n",
      "status='success' status_code=200 content={'id': 'cd8d34f4-cd6e-43b6-b5af-947f7530524d', 'library': 'nosox_lib_1', 'label': 'speakerA', 'filename': 'turn_3.wav', 'sandbox': '{}', 'timestamp': 1753706593, 'duration': 4.675918367346939} media_type='application/json'\n"
     ]
    }
   ],
   "source": [
    "file = \"turn_1.wav\"\n",
    "file_path = \"/home/grud/jsalt25/audio/\"+file \n",
    "metadata = scaper.dscaper.DscaperAudio(library=library, label=\"speakerA\", filename=file)\n",
    "resp = dsc.store_audio(file_path, metadata)\n",
    "print(resp)\n",
    "\n",
    "file = \"turn_3.wav\"\n",
    "file_path = \"/home/grud/jsalt25/audio/\"+file \n",
    "metadata = scaper.dscaper.DscaperAudio(library=library, label=\"speakerA\", filename=file)\n",
    "resp = dsc.store_audio(file_path, metadata)\n",
    "print(resp)"
   ]
  },
  {
   "cell_type": "code",
   "execution_count": 3,
   "id": "6a0bba78",
   "metadata": {},
   "outputs": [
    {
     "name": "stdout",
     "output_type": "stream",
     "text": [
      "status='success' status_code=200 content={'id': '768c3ff4-e33f-4ab5-acd2-543621fecc46', 'library': 'nosox_lib_1', 'label': 'speakerB', 'filename': 'turn_2.wav', 'sandbox': '{}', 'timestamp': 1753706596, 'duration': 13.557551020408162} media_type='application/json'\n",
      "status='success' status_code=200 content={'id': '57a96aba-79ae-490a-b928-decd8d54acae', 'library': 'nosox_lib_1', 'label': 'speakerB', 'filename': 'turn_4.wav', 'sandbox': '{}', 'timestamp': 1753706596, 'duration': 9.717551020408163} media_type='application/json'\n"
     ]
    }
   ],
   "source": [
    "file = \"turn_2.wav\"\n",
    "file_path = \"/home/grud/jsalt25/audio/\"+file \n",
    "metadata = scaper.dscaper.DscaperAudio(library=library, label=\"speakerB\", filename=file)\n",
    "resp = dsc.store_audio(file_path, metadata)\n",
    "print(resp)\n",
    "\n",
    "file = \"turn_4.wav\"\n",
    "file_path = \"/home/grud/jsalt25/audio/\"+file \n",
    "metadata = scaper.dscaper.DscaperAudio(library=library, label=\"speakerB\", filename=file)\n",
    "resp = dsc.store_audio(file_path, metadata)\n",
    "print(resp)"
   ]
  },
  {
   "cell_type": "code",
   "execution_count": 4,
   "id": "f63651a9",
   "metadata": {},
   "outputs": [
    {
     "name": "stdout",
     "output_type": "stream",
     "text": [
      "status='success' status_code=200 content={'id': 'e283edec-101e-4bc8-8067-35df8de56768', 'library': 'nosox_lib_1', 'label': 'ventillation', 'filename': 'ventillation.wav', 'sandbox': '{}', 'timestamp': 1753706599, 'duration': 35.16} media_type='application/json'\n"
     ]
    }
   ],
   "source": [
    "file = \"ventillation.wav\"\n",
    "file_path = \"/home/grud/jsalt25/audio/\"+file \n",
    "\n",
    "metadata = scaper.dscaper.DscaperAudio(library=library, label=\"ventillation\", filename=file)\n",
    "resp = dsc.store_audio(file_path, metadata)\n",
    "print(resp)"
   ]
  },
  {
   "cell_type": "code",
   "execution_count": 5,
   "id": "7af4c95e",
   "metadata": {},
   "outputs": [
    {
     "data": {
      "text/plain": [
       "DscaperJsonResponse(status='success', status_code=201, content={'id': '599698fc-6333-4f90-9bca-d531b9b413f7', 'name': 'nosox_timeline_1', 'duration': 35.0, 'description': 'Test timeline', 'sandbox': '{}', 'timestamp': 1753706601}, media_type='application/json')"
      ]
     },
     "execution_count": 5,
     "metadata": {},
     "output_type": "execute_result"
    }
   ],
   "source": [
    "timeline_metadata = scaper.dscaper.DscaperTimeline(name=timeline, duration=35.0, description=\"Test timeline\")\n",
    "\n",
    "dsc.create_timeline(timeline_metadata)"
   ]
  },
  {
   "cell_type": "code",
   "execution_count": 6,
   "id": "262584a5",
   "metadata": {},
   "outputs": [],
   "source": [
    "turn_1_txt = \"Hello, please come in. Have a seat. I'm Dr. Martin. What brings you in today?\"\n",
    "turn_2_txt = \"Hello, doctor. I've come to see you because I have a cough that hasn't gone away for three weeks. And for the past few days, I've been getting short of breath more quickly than usual.\"\n",
    "turn_3_txt = \"Okay, tell me a bit more about this cough. Is it a dry or a productive cough?\"\n",
    "turn_4_txt = \"It's a dry, very irritating cough. It especially wakes me up at night.\"\n"
   ]
  },
  {
   "cell_type": "code",
   "execution_count": 7,
   "id": "1320eb34",
   "metadata": {},
   "outputs": [
    {
     "data": {
      "text/plain": [
       "DscaperJsonResponse(status='success', status_code=201, content={'library': 'nosox_lib_1', 'label': ['const', 'speakerB'], 'source_file': ['const', 'turn_4.wav'], 'source_time': ['const', '0'], 'event_time': ['const', '25.5'], 'event_duration': None, 'snr': ['const', '0'], 'pitch_shift': None, 'time_stretch': None, 'position': 'speakerB', 'speaker': 'speakerB', 'text': \"It's a dry, very irritating cough. It especially wakes me up at night.\", 'id': '9c31ea3e-361f-4ac0-b65c-770d563f5b43'}, media_type='application/json')"
      ]
     },
     "execution_count": 7,
     "metadata": {},
     "output_type": "execute_result"
    }
   ],
   "source": [
    "offset_turn_3 = 20.5\n",
    "\n",
    "file = \"turn_1.wav\"\n",
    "event_metadata = scaper.dscaper.DscaperEvent(library=library, label=['const', 'speakerA'], source_file=['const', file], position=\"speakerA\", event_time=['const', '0.5'], speaker=\"speakerA\", text=turn_1_txt)\n",
    "dsc.add_event(timeline, event_metadata)\n",
    "file = \"turn_2.wav\"\n",
    "event_metadata = scaper.dscaper.DscaperEvent(library=library, label=['const', 'speakerB'], source_file=['const', file], position=\"speakerB\", event_time=['const', '6.0'], speaker=\"speakerB\", text=turn_2_txt)\n",
    "dsc.add_event(timeline, event_metadata)\n",
    "file = \"turn_3.wav\"\n",
    "event_metadata = scaper.dscaper.DscaperEvent(library=library, label=['const', 'speakerA'], source_file=['const', file], position=\"speakerA\", event_time=['const', str(offset_turn_3)], speaker=\"speakerA\", text=turn_3_txt)\n",
    "dsc.add_event(timeline, event_metadata)\n",
    "file = \"turn_4.wav\"\n",
    "event_metadata = scaper.dscaper.DscaperEvent(library=library, label=['const', 'speakerB'], source_file=['const', file], position=\"speakerB\", event_time=['const', '25.5'], speaker=\"speakerB\", text=turn_4_txt)\n",
    "dsc.add_event(timeline, event_metadata)"
   ]
  },
  {
   "cell_type": "code",
   "execution_count": 8,
   "id": "e1e249e0",
   "metadata": {},
   "outputs": [
    {
     "data": {
      "text/plain": [
       "DscaperJsonResponse(status='success', status_code=201, content={'library': 'presentation1', 'label': ['const', 'ventillation'], 'source_file': ['choose', '[]'], 'source_time': ['const', '0'], 'id': 'ee19bd66-1778-484a-a328-10a62b48b149'}, media_type='application/json')"
      ]
     },
     "execution_count": 8,
     "metadata": {},
     "output_type": "execute_result"
    }
   ],
   "source": [
    "file = \"ventillation.wav\"\n",
    "background_metadata = scaper.dscaper.DscaperBackground(library=\"presentation1\", label=['const', 'ventillation'], source_file=['choose', '[]'])\n",
    "dsc.add_background(timeline, background_metadata)"
   ]
  },
  {
   "cell_type": "code",
   "execution_count": 9,
   "id": "be140045",
   "metadata": {},
   "outputs": [
    {
     "name": "stderr",
     "output_type": "stream",
     "text": [
      "/home/grud/jsalt25/dscaper-1/scaper/core.py:1767: ScaperWarning: speakerB event time (25.50) is too great given event duration (9.72) and soundscape duration (35.00), changed to 25.28.\n",
      "  warnings.warn(\n",
      "/home/grud/jsalt25/dscaper-1/scaper/core.py:2290: ScaperWarning: Soundscape audio is clipping!\n",
      "  warnings.warn('Soundscape audio is clipping!',\n"
     ]
    },
    {
     "name": "stdout",
     "output_type": "stream",
     "text": [
      "Resp: status='success' status_code=201 content={'seed': 0, 'ref_db': -20, 'reverb': 0.0, 'save_isolated_events': False, 'save_isolated_positions': True, 'id': 'ab812f21-d53f-47de-99f7-81a105b86ef7', 'timestamp': 1753706617, 'generated_files': ['soundscape.wav', 'soundscape.txt', 'soundscape.jams', 'soundscape_positions/no_type.jams', 'soundscape_positions/speakerB.wav', 'soundscape_positions/speakerB.jams', 'soundscape_positions/speakerA.jams', 'soundscape_positions/speakerA.wav', 'soundscape_positions/no_type.wav']} media_type='application/json'\n",
      "ID: ab812f21-d53f-47de-99f7-81a105b86ef7\n"
     ]
    }
   ],
   "source": [
    "generate_metadata = scaper.dscaper.DscaperGenerate(save_isolated_positions=True)\n",
    "# generate_metadata = scaper.dscaper.DscaperGenerate()\n",
    "resp = dsc.generate_timeline(timeline, generate_metadata)\n",
    "print(\"Resp:\", resp)  # Get the ID of the generated timeline\n",
    "\n",
    "content = scaper.dscaper.DscaperGenerate(**resp.content)\n",
    "\n",
    "print(\"ID:\",content.id)  # Get the ID of the generated timeline"
   ]
  },
  {
   "cell_type": "code",
   "execution_count": null,
   "id": "de523707",
   "metadata": {},
   "outputs": [
    {
     "name": "stdout",
     "output_type": "stream",
     "text": [
      "SPEAKER /home/grud/jsalt25/dscaper-1/data/timelines/annotation4/generate/96106640-eddb-4628-8faa-f018de14ac8d/soundscape.wav 1 0.500 5.329 <NA> <NA> speakerA <NA> <NA>\n",
      "SPEAKER /home/grud/jsalt25/dscaper-1/data/timelines/annotation4/generate/96106640-eddb-4628-8faa-f018de14ac8d/soundscape.wav 1 6.000 13.558 <NA> <NA> speakerB <NA> <NA>\n",
      "SPEAKER /home/grud/jsalt25/dscaper-1/data/timelines/annotation4/generate/96106640-eddb-4628-8faa-f018de14ac8d/soundscape.wav 1 20.500 4.676 <NA> <NA> speakerA <NA> <NA>\n",
      "SPEAKER /home/grud/jsalt25/dscaper-1/data/timelines/annotation4/generate/96106640-eddb-4628-8faa-f018de14ac8d/soundscape.wav 1 25.282 9.718 <NA> <NA> speakerB <NA> <NA>\n"
     ]
    }
   ],
   "source": [
    "import misc.jams_to_rttm as jams2rttm\n",
    "\n",
    "jams_path = \"/home/grud/jsalt25/dscaper-1/data/timelines/annotation4/generate/96106640-eddb-4628-8faa-f018de14ac8d/soundscape.jams\"\n",
    "rttm_path = \"/home/grud/jsalt25/dscaper-1/data/timelines/annotation4/generate/96106640-eddb-4628-8faa-f018de14ac8d/soundscape.rttm\"\n",
    "jams2rttm.jams_to_rttm(jams_path, rttm_path)"
   ]
  },
  {
   "cell_type": "code",
   "execution_count": 1,
   "id": "f106760a",
   "metadata": {},
   "outputs": [
    {
     "name": "stdout",
     "output_type": "stream",
     "text": [
      "TextGrid:\n",
      "    Startig time (sec):    0\n",
      "    Ending time (sec):     100\n",
      "    Number of tiers:       3\n",
      "Tiers summary:\n",
      "    0\tIntervalTier\tspeakerA\t(size = 5)\n",
      "    1\tIntervalTier\tspeakerB\t(size = 5)\n",
      "    2\tIntervalTier\tno_speaker\t(size = 1)\n",
      "TextGrid file written to /home/grud/jsalt25/dscaper-1/data/timelines/annotation4/generate/96106640-eddb-4628-8faa-f018de14ac8d/soundscape.TextGrid\n"
     ]
    }
   ],
   "source": [
    "import misc.jams_to_textgrid as jams2textgrid\n",
    "\n",
    "jams_path = \"/home/grud/jsalt25/dscaper-1/data/timelines/annotation4/generate/96106640-eddb-4628-8faa-f018de14ac8d/soundscape.jams\"\n",
    "textgrid_path = \"/home/grud/jsalt25/dscaper-1/data/timelines/annotation4/generate/96106640-eddb-4628-8faa-f018de14ac8d/soundscape.TextGrid\"\n",
    "jams2textgrid.jams_to_textgrid(jams_path, textgrid_path)"
   ]
  }
 ],
 "metadata": {
  "kernelspec": {
   "display_name": ".venv",
   "language": "python",
   "name": "python3"
  },
  "language_info": {
   "codemirror_mode": {
    "name": "ipython",
    "version": 3
   },
   "file_extension": ".py",
   "mimetype": "text/x-python",
   "name": "python",
   "nbconvert_exporter": "python",
   "pygments_lexer": "ipython3",
   "version": "3.12.3"
  }
 },
 "nbformat": 4,
 "nbformat_minor": 5
}
