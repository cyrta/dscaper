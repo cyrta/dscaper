{
 "cells": [
  {
   "cell_type": "code",
   "execution_count": 9,
   "id": "81b8897f",
   "metadata": {},
   "outputs": [],
   "source": [
    "from pedalboard.io import AudioFile\n",
    "from pedalboard import Pedalboard, PitchShift, Reverb, Gain\n",
    "\n",
    "imput_file = \"tests/data/audio/foreground/car_horn/17-CAR-Rolls-Royce-Horn.wav\"\n",
    "\n",
    "with AudioFile(imput_file) as af:\n",
    "    event_audio = af.read(af.frames)\n",
    "    sample_rate = af.samplerate\n",
    "\n",
    "board = Pedalboard([PitchShift(1.2)])\n",
    "effected = board(event_audio, sample_rate)\n",
    "\n",
    "with AudioFile('processed-output.wav', 'w', sample_rate, effected.shape[0]) as f:\n",
    "  f.write(effected)"
   ]
  }
 ],
 "metadata": {
  "kernelspec": {
   "display_name": ".venv",
   "language": "python",
   "name": "python3"
  },
  "language_info": {
   "codemirror_mode": {
    "name": "ipython",
    "version": 3
   },
   "file_extension": ".py",
   "mimetype": "text/x-python",
   "name": "python",
   "nbconvert_exporter": "python",
   "pygments_lexer": "ipython3",
   "version": "3.12.3"
  }
 },
 "nbformat": 4,
 "nbformat_minor": 5
}
