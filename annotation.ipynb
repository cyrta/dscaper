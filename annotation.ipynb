{
 "cells": [
  {
   "cell_type": "code",
   "execution_count": 1,
   "id": "7677eec7",
   "metadata": {},
   "outputs": [
    {
     "name": "stdout",
     "output_type": "stream",
     "text": [
      "/home/grud/jsalt25/dscaper-1/data\n"
     ]
    }
   ],
   "source": [
    "import scaper\n",
    "\n",
    "dsc = scaper.Dscaper()\n",
    "\n",
    "print(dsc.get_dscaper_base_path())\n",
    "\n",
    "library = \"nosox_lib_7\"\n",
    "timeline = \"nosox_timeline_8\""
   ]
  },
  {
   "cell_type": "code",
   "execution_count": 2,
   "id": "9fb958d9",
   "metadata": {},
   "outputs": [
    {
     "name": "stdout",
     "output_type": "stream",
     "text": [
      "status='success' status_code=200 content={'id': '4fc6f1c2-5066-46da-8722-949fe35c4b1f', 'library': 'nosox_lib_7', 'label': 'speakerA', 'filename': 'turn_1.wav', 'sandbox': '{}', 'timestamp': 1753797695, 'duration': 5.328979591836735} media_type='application/json'\n",
      "status='success' status_code=200 content={'id': '1c430311-aae3-4825-a589-fe55f642fc8e', 'library': 'nosox_lib_7', 'label': 'speakerA', 'filename': 'turn_3.wav', 'sandbox': '{}', 'timestamp': 1753797695, 'duration': 4.675918367346939} media_type='application/json'\n"
     ]
    }
   ],
   "source": [
    "file = \"turn_1.wav\"\n",
    "file_path = \"/home/grud/jsalt25/audio/\"+file \n",
    "metadata = scaper.dscaper.DscaperAudio(library=library, label=\"speakerA\", filename=file)\n",
    "resp = dsc.store_audio(file_path, metadata)\n",
    "print(resp)\n",
    "\n",
    "file = \"turn_3.wav\"\n",
    "file_path = \"/home/grud/jsalt25/audio/\"+file \n",
    "metadata = scaper.dscaper.DscaperAudio(library=library, label=\"speakerA\", filename=file)\n",
    "resp = dsc.store_audio(file_path, metadata)\n",
    "print(resp)"
   ]
  },
  {
   "cell_type": "code",
   "execution_count": 3,
   "id": "6a0bba78",
   "metadata": {},
   "outputs": [
    {
     "name": "stdout",
     "output_type": "stream",
     "text": [
      "status='success' status_code=200 content={'id': '754ee33e-5ee6-443d-b1a5-272cb7cbb7ab', 'library': 'nosox_lib_7', 'label': 'speakerB', 'filename': 'turn_2.wav', 'sandbox': '{}', 'timestamp': 1753797695, 'duration': 13.557551020408162} media_type='application/json'\n",
      "status='success' status_code=200 content={'id': '6b8b6a08-a669-4e31-a574-ff6da0ddf375', 'library': 'nosox_lib_7', 'label': 'speakerB', 'filename': 'turn_4.wav', 'sandbox': '{}', 'timestamp': 1753797695, 'duration': 9.717551020408163} media_type='application/json'\n"
     ]
    }
   ],
   "source": [
    "file = \"turn_2.wav\"\n",
    "file_path = \"/home/grud/jsalt25/audio/\"+file \n",
    "metadata = scaper.dscaper.DscaperAudio(library=library, label=\"speakerB\", filename=file)\n",
    "resp = dsc.store_audio(file_path, metadata)\n",
    "print(resp)\n",
    "\n",
    "file = \"turn_4.wav\"\n",
    "file_path = \"/home/grud/jsalt25/audio/\"+file \n",
    "metadata = scaper.dscaper.DscaperAudio(library=library, label=\"speakerB\", filename=file)\n",
    "resp = dsc.store_audio(file_path, metadata)\n",
    "print(resp)"
   ]
  },
  {
   "cell_type": "code",
   "execution_count": 4,
   "id": "f63651a9",
   "metadata": {},
   "outputs": [
    {
     "name": "stdout",
     "output_type": "stream",
     "text": [
      "status='success' status_code=200 content={'id': '47d97982-298e-49d7-9fd4-e21397b15c02', 'library': 'nosox_lib_7', 'label': 'ventillation', 'filename': 'ventillation.wav', 'sandbox': '{}', 'timestamp': 1753797695, 'duration': 35.16} media_type='application/json'\n"
     ]
    }
   ],
   "source": [
    "file = \"ventillation.wav\"\n",
    "file_path = \"/home/grud/jsalt25/audio/\"+file \n",
    "\n",
    "metadata = scaper.dscaper.DscaperAudio(library=library, label=\"ventillation\", filename=file)\n",
    "resp = dsc.store_audio(file_path, metadata)\n",
    "print(resp)"
   ]
  },
  {
   "cell_type": "code",
   "execution_count": 5,
   "id": "7af4c95e",
   "metadata": {},
   "outputs": [
    {
     "data": {
      "text/plain": [
       "DscaperJsonResponse(status='success', status_code=201, content={'id': 'bee2c7ee-7d93-4321-b26e-40372f1169fd', 'name': 'nosox_timeline_8', 'duration': 35.0, 'description': 'Test timeline', 'sandbox': '{}', 'timestamp': 1753797695}, media_type='application/json')"
      ]
     },
     "execution_count": 5,
     "metadata": {},
     "output_type": "execute_result"
    }
   ],
   "source": [
    "timeline_metadata = scaper.dscaper.DscaperTimeline(name=timeline, duration=35.0, description=\"Test timeline\")\n",
    "\n",
    "dsc.create_timeline(timeline_metadata)"
   ]
  },
  {
   "cell_type": "code",
   "execution_count": 6,
   "id": "262584a5",
   "metadata": {},
   "outputs": [],
   "source": [
    "turn_1_txt = \"Hello, please come in. Have a seat. I'm Dr. Martin. What brings you in today?\"\n",
    "turn_2_txt = \"Hello, doctor. I've come to see you because I have a cough that hasn't gone away for three weeks. And for the past few days, I've been getting short of breath more quickly than usual.\"\n",
    "turn_3_txt = \"Okay, tell me a bit more about this cough. Is it a dry or a productive cough?\"\n",
    "turn_4_txt = \"It's a dry, very irritating cough. It especially wakes me up at night.\"\n"
   ]
  },
  {
   "cell_type": "code",
   "execution_count": 7,
   "id": "1320eb34",
   "metadata": {},
   "outputs": [
    {
     "data": {
      "text/plain": [
       "DscaperJsonResponse(status='success', status_code=201, content={'library': 'nosox_lib_7', 'label': ['const', 'speakerB'], 'source_file': ['const', 'turn_4.wav'], 'source_time': ['const', '0'], 'event_time': ['const', '25.5'], 'event_duration': None, 'snr': ['const', '0'], 'pitch_shift': None, 'time_stretch': None, 'position': 'speakerB', 'speaker': 'speakerB', 'text': \"It's a dry, very irritating cough. It especially wakes me up at night.\", 'id': '876596ca-c9f9-468b-8b1f-305a152733c5'}, media_type='application/json')"
      ]
     },
     "execution_count": 7,
     "metadata": {},
     "output_type": "execute_result"
    }
   ],
   "source": [
    "offset_turn_3 = 20.5\n",
    "\n",
    "file = \"turn_1.wav\"\n",
    "event_metadata = scaper.dscaper.DscaperEvent(library=library, label=['const', 'speakerA'], source_file=['const', file], position=\"speakerA\", event_time=['const', '0.5'], speaker=\"speakerA\", text=turn_1_txt, pitch_shift=['const', '2.0'])\n",
    "dsc.add_event(timeline, event_metadata)\n",
    "file = \"turn_2.wav\"\n",
    "event_metadata = scaper.dscaper.DscaperEvent(library=library, label=['const', 'speakerB'], source_file=['const', file], position=\"speakerB\", event_time=['const', '6.0'], speaker=\"speakerB\", text=turn_2_txt, time_stretch=['const', '1.2'])\n",
    "dsc.add_event(timeline, event_metadata)\n",
    "file = \"turn_3.wav\"\n",
    "event_metadata = scaper.dscaper.DscaperEvent(library=library, label=['const', 'speakerA'], source_file=['const', file], position=\"speakerA\", event_time=['const', str(offset_turn_3)], speaker=\"speakerA\", text=turn_3_txt)\n",
    "dsc.add_event(timeline, event_metadata)\n",
    "file = \"turn_4.wav\"\n",
    "event_metadata = scaper.dscaper.DscaperEvent(library=library, label=['const', 'speakerB'], source_file=['const', file], position=\"speakerB\", event_time=['const', '25.5'], speaker=\"speakerB\", text=turn_4_txt)\n",
    "dsc.add_event(timeline, event_metadata)"
   ]
  },
  {
   "cell_type": "code",
   "execution_count": 8,
   "id": "e1e249e0",
   "metadata": {},
   "outputs": [
    {
     "data": {
      "text/plain": [
       "DscaperJsonResponse(status='success', status_code=201, content={'library': 'presentation1', 'label': ['const', 'ventillation'], 'source_file': ['choose', '[]'], 'source_time': ['const', '0'], 'id': 'dfc0dcd2-e773-4257-9bf5-446e51975704'}, media_type='application/json')"
      ]
     },
     "execution_count": 8,
     "metadata": {},
     "output_type": "execute_result"
    }
   ],
   "source": [
    "file = \"ventillation.wav\"\n",
    "background_metadata = scaper.dscaper.DscaperBackground(library=\"presentation1\", label=['const', 'ventillation'], source_file=['choose', '[]'])\n",
    "dsc.add_background(timeline, background_metadata)"
   ]
  },
  {
   "cell_type": "code",
   "execution_count": 9,
   "id": "be140045",
   "metadata": {},
   "outputs": [
    {
     "name": "stderr",
     "output_type": "stream",
     "text": [
      "/home/grud/jsalt25/dscaper-1/scaper/core.py:1793: ScaperWarning: speakerB event time (25.50) is too great given event duration (9.72) and soundscape duration (35.00), changed to 25.28.\n",
      "  warnings.warn(\n"
     ]
    },
    {
     "name": "stdout",
     "output_type": "stream",
     "text": [
      "Reading background audio from:  /home/grud/jsalt25/dscaper-1/data/libraries/presentation1/ventillation/ventillation.wav\n",
      "target samplerate:  44100\n",
      "actual samplerate:  44100\n",
      "Background audio shape:  (2, 1543500)\n",
      "Tiled background audio shape after reshaping:  (3087000, 1)\n",
      "shape of background audio after reading:  (3087000, 1)\n",
      "Duration of audio: 70.000 seconds\n",
      "Reading foreground audio from:  /home/grud/jsalt25/dscaper-1/data/libraries/nosox_lib_7/speakerA/turn_1.wav\n",
      "target samplerate:  44100\n",
      "actual samplerate:  44100\n",
      "Duration of audio: 5.329 seconds\n",
      "Reading foreground audio from:  /home/grud/jsalt25/dscaper-1/data/libraries/nosox_lib_7/speakerB/turn_2.wav\n",
      "target samplerate:  44100\n",
      "actual samplerate:  44100\n",
      "Duration of audio: 11.298 seconds\n",
      "Reading foreground audio from:  /home/grud/jsalt25/dscaper-1/data/libraries/nosox_lib_7/speakerA/turn_3.wav\n",
      "target samplerate:  44100\n",
      "actual samplerate:  44100\n",
      "Duration of audio: 4.676 seconds\n",
      "Reading foreground audio from:  /home/grud/jsalt25/dscaper-1/data/libraries/nosox_lib_7/speakerB/turn_4.wav\n",
      "target samplerate:  44100\n",
      "actual samplerate:  44100\n",
      "Duration of audio: 9.718 seconds\n",
      "Reading background audio from:  /home/grud/jsalt25/dscaper-1/data/libraries/presentation1/ventillation/ventillation.wav\n",
      "target samplerate:  44100\n",
      "actual samplerate:  44100\n"
     ]
    },
    {
     "name": "stderr",
     "output_type": "stream",
     "text": [
      "/home/grud/jsalt25/dscaper-1/scaper/core.py:2408: ScaperWarning: Soundscape audio is clipping!\n",
      "  warnings.warn('Soundscape audio is clipping!',\n"
     ]
    },
    {
     "name": "stdout",
     "output_type": "stream",
     "text": [
      "Background audio shape:  (2, 1543500)\n",
      "Tiled background audio shape after reshaping:  (3087000, 1)\n",
      "shape of background audio after reading:  (3087000, 1)\n",
      "Duration of audio: 70.000 seconds\n",
      "Reading foreground audio from:  /home/grud/jsalt25/dscaper-1/data/libraries/nosox_lib_7/speakerA/turn_1.wav\n",
      "target samplerate:  44100\n",
      "actual samplerate:  44100\n",
      "Duration of audio: 5.329 seconds\n",
      "Reading foreground audio from:  /home/grud/jsalt25/dscaper-1/data/libraries/nosox_lib_7/speakerA/turn_3.wav\n",
      "target samplerate:  44100\n",
      "actual samplerate:  44100\n",
      "Duration of audio: 4.676 seconds\n",
      "Reading foreground audio from:  /home/grud/jsalt25/dscaper-1/data/libraries/nosox_lib_7/speakerB/turn_2.wav\n",
      "target samplerate:  44100\n",
      "actual samplerate:  44100\n",
      "Duration of audio: 11.298 seconds\n",
      "Reading foreground audio from:  /home/grud/jsalt25/dscaper-1/data/libraries/nosox_lib_7/speakerB/turn_4.wav\n",
      "target samplerate:  44100\n",
      "actual samplerate:  44100\n",
      "Duration of audio: 9.718 seconds\n",
      "Resp: status='success' status_code=201 content={'seed': 0, 'ref_db': -20, 'reverb': 0.0, 'save_isolated_events': False, 'save_isolated_positions': True, 'id': '91790839-3acf-424e-b3c8-eaecd18b1c9a', 'timestamp': 1753797695, 'generated_files': ['soundscape.wav', 'soundscape.txt', 'soundscape.jams', 'soundscape_positions/no_type.jams', 'soundscape_positions/speakerB.wav', 'soundscape_positions/speakerB.jams', 'soundscape_positions/speakerA.jams', 'soundscape_positions/speakerA.wav', 'soundscape_positions/no_type.wav']} media_type='application/json'\n",
      "ID: 91790839-3acf-424e-b3c8-eaecd18b1c9a\n"
     ]
    },
    {
     "name": "stderr",
     "output_type": "stream",
     "text": [
      "/home/grud/jsalt25/dscaper-1/scaper/core.py:2408: ScaperWarning: Soundscape audio is clipping!\n",
      "  warnings.warn('Soundscape audio is clipping!',\n"
     ]
    }
   ],
   "source": [
    "generate_metadata = scaper.dscaper.DscaperGenerate(save_isolated_positions=True)\n",
    "# generate_metadata = scaper.dscaper.DscaperGenerate()\n",
    "resp = dsc.generate_timeline(timeline, generate_metadata)\n",
    "print(\"Resp:\", resp)  # Get the ID of the generated timeline\n",
    "\n",
    "content = scaper.dscaper.DscaperGenerate(**resp.content)\n",
    "\n",
    "print(\"ID:\",content.id)  # Get the ID of the generated timeline"
   ]
  },
  {
   "cell_type": "code",
   "execution_count": 10,
   "id": "de523707",
   "metadata": {},
   "outputs": [
    {
     "name": "stdout",
     "output_type": "stream",
     "text": [
      "SPEAKER /home/grud/jsalt25/dscaper-1/data/timelines/annotation4/generate/96106640-eddb-4628-8faa-f018de14ac8d/soundscape.wav 1 0.500 5.329 <NA> <NA> speakerA <NA> <NA>\n",
      "SPEAKER /home/grud/jsalt25/dscaper-1/data/timelines/annotation4/generate/96106640-eddb-4628-8faa-f018de14ac8d/soundscape.wav 1 6.000 13.558 <NA> <NA> speakerB <NA> <NA>\n",
      "SPEAKER /home/grud/jsalt25/dscaper-1/data/timelines/annotation4/generate/96106640-eddb-4628-8faa-f018de14ac8d/soundscape.wav 1 20.500 4.676 <NA> <NA> speakerA <NA> <NA>\n",
      "SPEAKER /home/grud/jsalt25/dscaper-1/data/timelines/annotation4/generate/96106640-eddb-4628-8faa-f018de14ac8d/soundscape.wav 1 25.282 9.718 <NA> <NA> speakerB <NA> <NA>\n"
     ]
    }
   ],
   "source": [
    "import misc.jams_to_rttm as jams2rttm\n",
    "\n",
    "jams_path = \"/home/grud/jsalt25/dscaper-1/data/timelines/annotation4/generate/96106640-eddb-4628-8faa-f018de14ac8d/soundscape.jams\"\n",
    "rttm_path = \"/home/grud/jsalt25/dscaper-1/data/timelines/annotation4/generate/96106640-eddb-4628-8faa-f018de14ac8d/soundscape.rttm\"\n",
    "jams2rttm.jams_to_rttm(jams_path, rttm_path)"
   ]
  },
  {
   "cell_type": "code",
   "execution_count": 11,
   "id": "f106760a",
   "metadata": {},
   "outputs": [
    {
     "name": "stdout",
     "output_type": "stream",
     "text": [
      "TextGrid:\n",
      "    Startig time (sec):    0\n",
      "    Ending time (sec):     100\n",
      "    Number of tiers:       3\n",
      "Tiers summary:\n",
      "    0\tIntervalTier\tspeakerB\t(size = 5)\n",
      "    1\tIntervalTier\tspeakerA\t(size = 5)\n",
      "    2\tIntervalTier\tno_speaker\t(size = 1)\n",
      "TextGrid file written to /home/grud/jsalt25/dscaper-1/data/timelines/annotation4/generate/96106640-eddb-4628-8faa-f018de14ac8d/soundscape.TextGrid\n"
     ]
    }
   ],
   "source": [
    "import misc.jams_to_textgrid as jams2textgrid\n",
    "\n",
    "jams_path = \"/home/grud/jsalt25/dscaper-1/data/timelines/annotation4/generate/96106640-eddb-4628-8faa-f018de14ac8d/soundscape.jams\"\n",
    "textgrid_path = \"/home/grud/jsalt25/dscaper-1/data/timelines/annotation4/generate/96106640-eddb-4628-8faa-f018de14ac8d/soundscape.TextGrid\"\n",
    "jams2textgrid.jams_to_textgrid(jams_path, textgrid_path)"
   ]
  }
 ],
 "metadata": {
  "kernelspec": {
   "display_name": ".venv",
   "language": "python",
   "name": "python3"
  },
  "language_info": {
   "codemirror_mode": {
    "name": "ipython",
    "version": 3
   },
   "file_extension": ".py",
   "mimetype": "text/x-python",
   "name": "python",
   "nbconvert_exporter": "python",
   "pygments_lexer": "ipython3",
   "version": "3.12.3"
  }
 },
 "nbformat": 4,
 "nbformat_minor": 5
}
