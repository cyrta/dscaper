{
 "cells": [
  {
   "cell_type": "code",
   "execution_count": 1,
   "id": "7677eec7",
   "metadata": {},
   "outputs": [
    {
     "name": "stdout",
     "output_type": "stream",
     "text": [
      "/home/grud/jsalt25/dscaper-1/data\n"
     ]
    }
   ],
   "source": [
    "import scaper\n",
    "\n",
    "dsc = scaper.Dscaper()\n",
    "\n",
    "print(dsc.get_dscaper_base_path())"
   ]
  },
  {
   "cell_type": "code",
   "execution_count": null,
   "id": "be8b3a53",
   "metadata": {},
   "outputs": [
    {
     "name": "stdout",
     "output_type": "stream",
     "text": [
      "status='success' status_code=200 content={'id': '1dbba9ae-03e4-4ed9-8f1c-71f5de7f44b8', 'library': 'presentation1', 'label': 'speakerA', 'filename': 'V2-3_01.wav', 'sandbox': '{}', 'timestamp': 1752586183, 'duration': 5.98204081632653} media_type='application/json'\n"
     ]
    }
   ],
   "source": [
    "# file = \"V2-1_01.wav\"\n",
    "file = \"V2-3_01.wav\"\n",
    "file_path = \"/home/grud/jsalt25/audio/\"+file \n",
    "\n",
    "metadata = scaper.dscaper.DscaperAudio(library=\"presentation1\", label=\"speakerA\", filename=file)\n",
    "resp = dsc.store_audio(file_path, metadata)\n",
    "print(resp)"
   ]
  },
  {
   "cell_type": "code",
   "execution_count": 2,
   "id": "1c81e407",
   "metadata": {},
   "outputs": [
    {
     "name": "stdout",
     "output_type": "stream",
     "text": [
      "**** duration: 10.344489795918367 of file: /home/grud/jsalt25/dscaper-1/data/libraries/presentation1/speakerB/dummy1.wav\n",
      "status='success' status_code=200 content={'id': 'f70b36e5-7ca7-4021-aed5-2367c1c48356', 'library': 'presentation1', 'label': 'speakerB', 'filename': 'dummy1.wav', 'sandbox': '{}', 'timestamp': 1752599269, 'duration': 10.344489795918367} media_type='application/json'\n"
     ]
    }
   ],
   "source": [
    "file = \"V2-2_01.wav\"\n",
    "# file = \"V2-4_01.wav\"\n",
    "file_path = \"/home/grud/jsalt25/audio/\"+file \n",
    "\n",
    "metadata = scaper.dscaper.DscaperAudio(library=\"presentation1\", label=\"speakerB\", filename=\"dummy1.wav\" )\n",
    "resp = dsc.store_audio(file_path, metadata)\n",
    "print(resp)"
   ]
  },
  {
   "cell_type": "code",
   "execution_count": 14,
   "id": "7db34197",
   "metadata": {},
   "outputs": [
    {
     "name": "stdout",
     "output_type": "stream",
     "text": [
      "status='success' status_code=200 content={'id': 'e7380b59-5cc6-4430-a15f-d46161dbb7a4', 'library': 'presentation1', 'label': 'ventillation', 'filename': 'ventillation.wav', 'sandbox': '{}', 'timestamp': 1752587270, 'duration': 35.16} media_type='application/json'\n"
     ]
    }
   ],
   "source": [
    "file = \"ventillation.wav\"\n",
    "file_path = \"/home/grud/jsalt25/audio/\"+file \n",
    "\n",
    "metadata = scaper.dscaper.DscaperAudio(library=\"presentation1\", label=\"ventillation\", filename=file)\n",
    "resp = dsc.store_audio(file_path, metadata)\n",
    "print(resp)"
   ]
  },
  {
   "cell_type": "code",
   "execution_count": 7,
   "id": "7af4c95e",
   "metadata": {},
   "outputs": [
    {
     "data": {
      "text/plain": [
       "DscaperJsonResponse(status='success', status_code=201, content={'id': '9bfc1c61-94be-45c2-8e43-183924864d33', 'name': 'presentation1_1', 'duration': 30.0, 'description': 'Test timeline', 'sandbox': '{}', 'timestamp': 1752586302}, media_type='application/json')"
      ]
     },
     "execution_count": 7,
     "metadata": {},
     "output_type": "execute_result"
    }
   ],
   "source": [
    "timeline_metadata = scaper.dscaper.DscaperTimeline(name=\"presentation1_1\", duration=30.0, description=\"Test timeline\")\n",
    "\n",
    "dsc.create_timeline(timeline_metadata)"
   ]
  },
  {
   "cell_type": "code",
   "execution_count": null,
   "id": "1320eb34",
   "metadata": {},
   "outputs": [
    {
     "data": {
      "text/plain": [
       "DscaperJsonResponse(status='success', status_code=201, content={'library': 'presentation1', 'label': ['const', 'speakerB'], 'source_file': ['const', 'V2-4_01.wav'], 'source_time': ['const', '0'], 'event_time': ['const', '21.5'], 'event_duration': ['const', '5'], 'snr': ['const', '0'], 'pitch_shift': None, 'time_stretch': None, 'position': 'speakerB', 'id': 'c8aa1deb-9ca3-420d-b2ae-6065058123eb'}, media_type='application/json')"
      ]
     },
     "execution_count": 11,
     "metadata": {},
     "output_type": "execute_result"
    }
   ],
   "source": [
    "file = \"V2-1_01.wav\"\n",
    "event_metadata = scaper.dscaper.DscaperEvent(library=\"presentation1\", label=['const', 'speakerA'], source_file=['const', file], position=\"speakerA\", event_time=['const', '0.5'], event_duration=['const', '6.3'])\n",
    "dsc.add_event(\"presentation1_1\", event_metadata)\n",
    "file = \"V2-2_01.wav\"\n",
    "event_metadata = scaper.dscaper.DscaperEvent(library=\"presentation1\", label=['const', 'speakerB'], source_file=['const', file], position=\"speakerB\", event_time=['const', '6.5'], event_duration=['const', '10.4'])\n",
    "dsc.add_event(\"presentation1_1\", event_metadata)\n",
    "file = \"V2-3_01.wav\"\n",
    "event_metadata = scaper.dscaper.DscaperEvent(library=\"presentation1\", label=['const', 'speakerA'], source_file=['const', file], position=\"speakerA\", event_time=['const', '16.5'], event_duration=['const', '6.0'])\n",
    "dsc.add_event(\"presentation1_1\", event_metadata)\n",
    "file = \"V2-4_01.wav\"\n",
    "event_metadata = scaper.dscaper.DscaperEvent(library=\"presentation1\", label=['const', 'speakerB'], source_file=['const', file], position=\"speakerB\", event_time=['const', '21.5'], event_duration=['const', '5.0'])\n",
    "dsc.add_event(\"presentation1_1\", event_metadata)"
   ]
  },
  {
   "cell_type": "code",
   "execution_count": 3,
   "id": "e1e249e0",
   "metadata": {},
   "outputs": [
    {
     "data": {
      "text/plain": [
       "DscaperJsonResponse(status='success', status_code=201, content={'library': 'presentation1', 'label': ['const', 'ventillation'], 'source_file': ['choose', '[]'], 'source_time': ['const', '0'], 'id': 'c84a4a35-2950-4203-9ea0-826a3db0c855'}, media_type='application/json')"
      ]
     },
     "execution_count": 3,
     "metadata": {},
     "output_type": "execute_result"
    }
   ],
   "source": [
    "file = \"ventillation.wav\"\n",
    "background_metadata = scaper.dscaper.DscaperBackground(library=\"presentation1\", label=['const', 'ventillation'], source_file=['choose', '[]'])\n",
    "dsc.add_background(\"presentation1_1\", background_metadata)"
   ]
  },
  {
   "cell_type": "code",
   "execution_count": 4,
   "id": "be140045",
   "metadata": {},
   "outputs": [
    {
     "name": "stdout",
     "output_type": "stream",
     "text": [
      "Background library default labels: ['park', 'restaurant', 'street']\n",
      "Background library /home/grud/jsalt25/dscaper-1/data/libraries/presentation1 labels: ['ventillation', 'speakerA', 'speakerB']\n",
      "Foreground library default labels: ['car_horn', 'human_voice', 'siren']\n",
      "Foreground library /home/grud/jsalt25/dscaper-1/data/libraries/presentation1 labels: ['ventillation', 'speakerA', 'speakerB']\n",
      "Event time:  ('const', 0)\n",
      "type:  <class 'tuple'>\n",
      "*** source file ('const', 'V2-4_01.wav')\n",
      "*** source with path /home/grud/jsalt25/dscaper-1/data/libraries/presentation1/speakerB/V2-4_01.wav\n",
      "*** source file tuple ('const', '/home/grud/jsalt25/dscaper-1/data/libraries/presentation1/speakerB/V2-4_01.wav')\n",
      "Event time:  ('const', 21.5)\n",
      "type:  <class 'tuple'>\n",
      "*** source file ('const', 'V2-3_01.wav')\n",
      "*** source with path /home/grud/jsalt25/dscaper-1/data/libraries/presentation1/speakerA/V2-3_01.wav\n",
      "*** source file tuple ('const', '/home/grud/jsalt25/dscaper-1/data/libraries/presentation1/speakerA/V2-3_01.wav')\n",
      "Event time:  ('const', 16.5)\n",
      "type:  <class 'tuple'>\n",
      "*** source file ('const', 'V2-2_01.wav')\n",
      "*** source with path /home/grud/jsalt25/dscaper-1/data/libraries/presentation1/speakerB/V2-2_01.wav\n",
      "*** source file tuple ('const', '/home/grud/jsalt25/dscaper-1/data/libraries/presentation1/speakerB/V2-2_01.wav')\n",
      "Event time:  ('const', 6.5)\n",
      "type:  <class 'tuple'>\n",
      "*** source file ('const', 'V2-1_01.wav')\n",
      "*** source with path /home/grud/jsalt25/dscaper-1/data/libraries/presentation1/speakerA/V2-1_01.wav\n",
      "*** source file tuple ('const', '/home/grud/jsalt25/dscaper-1/data/libraries/presentation1/speakerA/V2-1_01.wav')\n",
      "Event time:  ('const', 0.5)\n",
      "type:  <class 'tuple'>\n"
     ]
    },
    {
     "name": "stderr",
     "output_type": "stream",
     "text": [
      "/home/grud/jsalt25/dscaper-1/scaper/core.py:1625: ScaperWarning: speakerB event duration (5.00) is greater that source duration (4.91), changing to 4.91\n",
      "  warnings.warn(\n",
      "/home/grud/jsalt25/dscaper-1/scaper/core.py:1625: ScaperWarning: speakerA event duration (6.00) is greater that source duration (5.98), changing to 5.98\n",
      "  warnings.warn(\n",
      "/home/grud/jsalt25/dscaper-1/scaper/core.py:1625: ScaperWarning: speakerB event duration (10.40) is greater that source duration (10.34), changing to 10.34\n",
      "  warnings.warn(\n",
      "/home/grud/jsalt25/dscaper-1/scaper/core.py:1625: ScaperWarning: speakerA event duration (6.30) is greater that source duration (6.30), changing to 6.30\n",
      "  warnings.warn(\n",
      "/home/grud/jsalt25/dscaper-1/scaper/core.py:2252: ScaperWarning: Soundscape audio is clipping!\n",
      "  warnings.warn('Soundscape audio is clipping!',\n"
     ]
    },
    {
     "name": "stdout",
     "output_type": "stream",
     "text": [
      "Resp: status='success' status_code=201 content={'seed': 0, 'ref_db': -20, 'reverb': 0.0, 'save_isolated_events': False, 'save_isolated_positions': True, 'id': '158adee6-6f93-4052-b440-926e6305f6af', 'timestamp': 1752647513, 'generated_files': ['soundscape.wav', 'soundscape.txt', 'soundscape.jams']} media_type='application/json'\n",
      "ID: 158adee6-6f93-4052-b440-926e6305f6af\n"
     ]
    }
   ],
   "source": [
    "generate_metadata = scaper.dscaper.DscaperGenerate(save_isolated_positions=True)\n",
    "# generate_metadata = scaper.dscaper.DscaperGenerate()\n",
    "resp = dsc.generate_timeline(\"presentation1_1\", generate_metadata)\n",
    "print(\"Resp:\", resp)  # Get the ID of the generated timeline\n",
    "\n",
    "content = scaper.dscaper.DscaperGenerate(**resp.content)\n",
    "\n",
    "print(\"ID:\",content.id)  # Get the ID of the generated timeline"
   ]
  }
 ],
 "metadata": {
  "kernelspec": {
   "display_name": ".venv",
   "language": "python",
   "name": "python3"
  },
  "language_info": {
   "codemirror_mode": {
    "name": "ipython",
    "version": 3
   },
   "file_extension": ".py",
   "mimetype": "text/x-python",
   "name": "python",
   "nbconvert_exporter": "python",
   "pygments_lexer": "ipython3",
   "version": "3.12.3"
  }
 },
 "nbformat": 4,
 "nbformat_minor": 5
}
