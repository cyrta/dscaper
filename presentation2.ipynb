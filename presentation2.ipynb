{
 "cells": [
  {
   "cell_type": "code",
   "execution_count": 1,
   "id": "7677eec7",
   "metadata": {},
   "outputs": [
    {
     "name": "stdout",
     "output_type": "stream",
     "text": [
      "/home/grud/jsalt25/dscaper-1/data\n"
     ]
    }
   ],
   "source": [
    "import scaper\n",
    "\n",
    "dsc = scaper.Dscaper()\n",
    "\n",
    "print(dsc.get_dscaper_base_path())\n",
    "\n",
    "library = \"presentation2\"\n",
    "timeline = \"presentation2_2\""
   ]
  },
  {
   "cell_type": "code",
   "execution_count": 2,
   "id": "be8b3a53",
   "metadata": {},
   "outputs": [
    {
     "name": "stdout",
     "output_type": "stream",
     "text": [
      "**** duration: 5.328979591836735 of file: /home/grud/jsalt25/dscaper-1/data/libraries/presentation2/speakerA/turn_1.wav\n",
      "status='success' status_code=200 content={'id': 'f7f34fc7-7d02-4b02-8ca8-a3764b2315aa', 'library': 'presentation2', 'label': 'speakerA', 'filename': 'turn_1.wav', 'sandbox': '{}', 'timestamp': 1752650741, 'duration': 5.328979591836735} media_type='application/json'\n",
      "**** duration: 4.675918367346939 of file: /home/grud/jsalt25/dscaper-1/data/libraries/presentation2/speakerA/turn_3.wav\n",
      "status='success' status_code=200 content={'id': '6f7b61a1-29b2-4e70-823d-df091ad63637', 'library': 'presentation2', 'label': 'speakerA', 'filename': 'turn_3.wav', 'sandbox': '{}', 'timestamp': 1752650741, 'duration': 4.675918367346939} media_type='application/json'\n"
     ]
    }
   ],
   "source": [
    "file = \"turn_1.wav\"\n",
    "file_path = \"/home/grud/jsalt25/audio/\"+file \n",
    "metadata = scaper.dscaper.DscaperAudio(library=library, label=\"speakerA\", filename=file)\n",
    "resp = dsc.store_audio(file_path, metadata)\n",
    "print(resp)\n",
    "\n",
    "file = \"turn_3.wav\"\n",
    "file_path = \"/home/grud/jsalt25/audio/\"+file \n",
    "metadata = scaper.dscaper.DscaperAudio(library=library, label=\"speakerA\", filename=file)\n",
    "resp = dsc.store_audio(file_path, metadata)\n",
    "print(resp)"
   ]
  },
  {
   "cell_type": "code",
   "execution_count": 3,
   "id": "1c81e407",
   "metadata": {},
   "outputs": [
    {
     "name": "stdout",
     "output_type": "stream",
     "text": [
      "**** duration: 13.557551020408162 of file: /home/grud/jsalt25/dscaper-1/data/libraries/presentation2/speakerB/turn_2.wav\n",
      "status='success' status_code=200 content={'id': 'df8b80e7-13fe-4ed1-8ac3-db2d0e8d6cbe', 'library': 'presentation2', 'label': 'speakerB', 'filename': 'turn_2.wav', 'sandbox': '{}', 'timestamp': 1752650782, 'duration': 13.557551020408162} media_type='application/json'\n",
      "**** duration: 9.717551020408163 of file: /home/grud/jsalt25/dscaper-1/data/libraries/presentation2/speakerB/turn_4.wav\n",
      "status='success' status_code=200 content={'id': 'cb007c51-f8ff-478b-92cb-bac09c5e5a12', 'library': 'presentation2', 'label': 'speakerB', 'filename': 'turn_4.wav', 'sandbox': '{}', 'timestamp': 1752650782, 'duration': 9.717551020408163} media_type='application/json'\n"
     ]
    }
   ],
   "source": [
    "file = \"turn_2.wav\"\n",
    "file_path = \"/home/grud/jsalt25/audio/\"+file \n",
    "metadata = scaper.dscaper.DscaperAudio(library=library, label=\"speakerB\", filename=file)\n",
    "resp = dsc.store_audio(file_path, metadata)\n",
    "print(resp)\n",
    "\n",
    "file = \"turn_4.wav\"\n",
    "file_path = \"/home/grud/jsalt25/audio/\"+file \n",
    "metadata = scaper.dscaper.DscaperAudio(library=library, label=\"speakerB\", filename=file)\n",
    "resp = dsc.store_audio(file_path, metadata)\n",
    "print(resp)"
   ]
  },
  {
   "cell_type": "code",
   "execution_count": 4,
   "id": "7db34197",
   "metadata": {},
   "outputs": [
    {
     "name": "stdout",
     "output_type": "stream",
     "text": [
      "**** duration: 35.16 of file: /home/grud/jsalt25/dscaper-1/data/libraries/presentation2/ventillation/ventillation.wav\n",
      "status='success' status_code=200 content={'id': 'e06ed02b-8c7d-41a6-b5ac-3d0f9f0e7c18', 'library': 'presentation2', 'label': 'ventillation', 'filename': 'ventillation.wav', 'sandbox': '{}', 'timestamp': 1752650799, 'duration': 35.16} media_type='application/json'\n"
     ]
    }
   ],
   "source": [
    "file = \"ventillation.wav\"\n",
    "file_path = \"/home/grud/jsalt25/audio/\"+file \n",
    "\n",
    "metadata = scaper.dscaper.DscaperAudio(library=library, label=\"ventillation\", filename=file)\n",
    "resp = dsc.store_audio(file_path, metadata)\n",
    "print(resp)"
   ]
  },
  {
   "cell_type": "code",
   "execution_count": 2,
   "id": "7af4c95e",
   "metadata": {},
   "outputs": [
    {
     "data": {
      "text/plain": [
       "DscaperJsonResponse(status='error', status_code=400, content={'description': \"Timeline 'presentation2_2' already exists.\"}, media_type='application/json')"
      ]
     },
     "execution_count": 2,
     "metadata": {},
     "output_type": "execute_result"
    }
   ],
   "source": [
    "timeline_metadata = scaper.dscaper.DscaperTimeline(name=timeline, duration=35.0, description=\"Test timeline\")\n",
    "\n",
    "dsc.create_timeline(timeline_metadata)"
   ]
  },
  {
   "cell_type": "code",
   "execution_count": 3,
   "id": "1320eb34",
   "metadata": {},
   "outputs": [
    {
     "data": {
      "text/plain": [
       "DscaperJsonResponse(status='success', status_code=201, content={'library': 'presentation2', 'label': ['const', 'speakerB'], 'source_file': ['const', 'turn_4.wav'], 'source_time': ['const', '0'], 'event_time': ['const', '25.5'], 'event_duration': None, 'snr': ['const', '0'], 'pitch_shift': None, 'time_stretch': None, 'position': 'speakerB', 'id': 'aa1f7709-9681-40a4-8778-49814b38311c'}, media_type='application/json')"
      ]
     },
     "execution_count": 3,
     "metadata": {},
     "output_type": "execute_result"
    }
   ],
   "source": [
    "file = \"turn_1.wav\"\n",
    "event_metadata = scaper.dscaper.DscaperEvent(library=library, label=['const', 'speakerA'], source_file=['const', file], position=\"speakerA\", event_time=['const', '0.5'])\n",
    "dsc.add_event(timeline, event_metadata)\n",
    "file = \"turn_2.wav\"\n",
    "event_metadata = scaper.dscaper.DscaperEvent(library=library, label=['const', 'speakerB'], source_file=['const', file], position=\"speakerB\", event_time=['const', '6.0'])\n",
    "dsc.add_event(timeline, event_metadata)\n",
    "file = \"turn_3.wav\"\n",
    "event_metadata = scaper.dscaper.DscaperEvent(library=library, label=['const', 'speakerA'], source_file=['const', file], position=\"speakerA\", event_time=['const', '20.5'])\n",
    "dsc.add_event(timeline, event_metadata)\n",
    "file = \"turn_4.wav\"\n",
    "event_metadata = scaper.dscaper.DscaperEvent(library=library, label=['const', 'speakerB'], source_file=['const', file], position=\"speakerB\", event_time=['const', '25.5'])\n",
    "dsc.add_event(timeline, event_metadata)"
   ]
  },
  {
   "cell_type": "code",
   "execution_count": 4,
   "id": "e1e249e0",
   "metadata": {},
   "outputs": [
    {
     "data": {
      "text/plain": [
       "DscaperJsonResponse(status='success', status_code=201, content={'library': 'presentation1', 'label': ['const', 'ventillation'], 'source_file': ['choose', '[]'], 'source_time': ['const', '0'], 'id': 'dfc05725-c3bb-47cb-bef9-43584e4bfb62'}, media_type='application/json')"
      ]
     },
     "execution_count": 4,
     "metadata": {},
     "output_type": "execute_result"
    }
   ],
   "source": [
    "file = \"ventillation.wav\"\n",
    "background_metadata = scaper.dscaper.DscaperBackground(library=\"presentation1\", label=['const', 'ventillation'], source_file=['choose', '[]'])\n",
    "dsc.add_background(timeline, background_metadata)"
   ]
  },
  {
   "cell_type": "code",
   "execution_count": 2,
   "id": "be140045",
   "metadata": {},
   "outputs": [
    {
     "name": "stderr",
     "output_type": "stream",
     "text": [
      "/home/grud/jsalt25/dscaper-1/scaper/core.py:1756: ScaperWarning: speakerB event time (25.50) is too great given event duration (9.72) and soundscape duration (35.00), changed to 25.28.\n",
      "  warnings.warn(\n"
     ]
    },
    {
     "name": "stdout",
     "output_type": "stream",
     "text": [
      "Saving JAMS for event type no_type to /home/grud/jsalt25/dscaper-1/data/timelines/presentation2_2/generate/0fe533a0-16d2-489d-b25a-6e07d3cb3222/soundscape_positions/no_type.jams\n",
      "Saving JAMS for event type speakerA to /home/grud/jsalt25/dscaper-1/data/timelines/presentation2_2/generate/0fe533a0-16d2-489d-b25a-6e07d3cb3222/soundscape_positions/speakerA.jams\n",
      "Saving JAMS for event type speakerB to /home/grud/jsalt25/dscaper-1/data/timelines/presentation2_2/generate/0fe533a0-16d2-489d-b25a-6e07d3cb3222/soundscape_positions/speakerB.jams\n",
      "Resp: status='success' status_code=201 content={'seed': 0, 'ref_db': -20, 'reverb': 0.0, 'save_isolated_events': False, 'save_isolated_positions': True, 'id': '0fe533a0-16d2-489d-b25a-6e07d3cb3222', 'timestamp': 1752752796, 'generated_files': ['soundscape.wav', 'soundscape.txt', 'soundscape.jams']} media_type='application/json'\n",
      "ID: 0fe533a0-16d2-489d-b25a-6e07d3cb3222\n"
     ]
    }
   ],
   "source": [
    "generate_metadata = scaper.dscaper.DscaperGenerate(save_isolated_positions=True)\n",
    "# generate_metadata = scaper.dscaper.DscaperGenerate()\n",
    "resp = dsc.generate_timeline(timeline, generate_metadata)\n",
    "print(\"Resp:\", resp)  # Get the ID of the generated timeline\n",
    "\n",
    "content = scaper.dscaper.DscaperGenerate(**resp.content)\n",
    "\n",
    "print(\"ID:\",content.id)  # Get the ID of the generated timeline"
   ]
  }
 ],
 "metadata": {
  "kernelspec": {
   "display_name": ".venv",
   "language": "python",
   "name": "python3"
  },
  "language_info": {
   "codemirror_mode": {
    "name": "ipython",
    "version": 3
   },
   "file_extension": ".py",
   "mimetype": "text/x-python",
   "name": "python",
   "nbconvert_exporter": "python",
   "pygments_lexer": "ipython3",
   "version": "3.12.3"
  }
 },
 "nbformat": 4,
 "nbformat_minor": 5
}
